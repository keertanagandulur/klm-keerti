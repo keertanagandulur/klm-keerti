{
 "cells": [
  {
   "cell_type": "code",
   "execution_count": 1,
   "metadata": {},
   "outputs": [
    {
     "name": "stdout",
     "output_type": "stream",
     "text": [
      "enter the number3\n",
      "1\n",
      "2\n",
      "3\n",
      "4\n",
      "5\n",
      "6\n",
      "7\n",
      "8\n",
      "9\n",
      "10\n"
     ]
    }
   ],
   "source": [
    "n=int(input(\"enter the number\"))\n",
    "for number in range(1,11):\n",
    "     print(number) \n",
    "        "
   ]
  },
  {
   "cell_type": "code",
   "execution_count": 2,
   "metadata": {},
   "outputs": [
    {
     "name": "stdout",
     "output_type": "stream",
     "text": [
      "3 x 1 = 3\n"
     ]
    }
   ],
   "source": [
    "print(\"3\",\"x\",\"1\",\"=\",3*1)"
   ]
  },
  {
   "cell_type": "code",
   "execution_count": 3,
   "metadata": {},
   "outputs": [
    {
     "name": "stdout",
     "output_type": "stream",
     "text": [
      "3 x 2 = 6\n"
     ]
    }
   ],
   "source": [
    "print(\"3\",\"x\",\"2\",\"=\",3*2)"
   ]
  },
  {
   "cell_type": "code",
   "execution_count": 7,
   "metadata": {},
   "outputs": [
    {
     "name": "stdout",
     "output_type": "stream",
     "text": [
      "3 a 9 = 12\n"
     ]
    }
   ],
   "source": [
    "print(\"3\",\"a\",\"9\",\"=\",3+9)"
   ]
  },
  {
   "cell_type": "code",
   "execution_count": 8,
   "metadata": {},
   "outputs": [
    {
     "name": "stdout",
     "output_type": "stream",
     "text": [
      "enter the number3\n",
      "3 x 1 = 3\n",
      "3 x 2 = 6\n",
      "3 x 3 = 9\n",
      "3 x 4 = 12\n",
      "3 x 5 = 15\n",
      "3 x 6 = 18\n",
      "3 x 7 = 21\n",
      "3 x 8 = 24\n",
      "3 x 9 = 27\n",
      "3 x 10 = 30\n"
     ]
    }
   ],
   "source": [
    "#n=3\n",
    "n=int(input(\"enter the number\"))\n",
    "for number in range(1,11):\n",
    "    print(n,\"x\",number,\"=\",n*number)"
   ]
  },
  {
   "cell_type": "code",
   "execution_count": 18,
   "metadata": {},
   "outputs": [
    {
     "name": "stdout",
     "output_type": "stream",
     "text": [
      "193h1a0501\n",
      "193h1a0502\n",
      "193h1a0503\n",
      "193h1a0504\n",
      "193h1a0505\n",
      "193h1a0506\n",
      "193h1a0507\n",
      "193h1a0508\n",
      "193h1a0509\n",
      "193h1a0510\n",
      "193h1a0511\n",
      "193h1a0512\n",
      "193h1a0513\n",
      "193h1a0514\n",
      "193h1a0515\n",
      "193h1a0516\n",
      "193h1a0517\n",
      "193h1a0518\n",
      "193h1a0519\n",
      "193h1a0520\n",
      "193h1a0521\n",
      "193h1a0522\n",
      "193h1a0523\n",
      "193h1a0524\n",
      "193h1a0525\n",
      "193h1a0526\n",
      "193h1a0527\n",
      "193h1a0528\n",
      "193h1a0529\n",
      "193h1a0530\n",
      "193h1a0531\n",
      "193h1a0532\n",
      "193h1a0533\n",
      "193h1a0534\n",
      "193h1a0535\n",
      "193h1a0536\n",
      "193h1a0537\n",
      "193h1a0538\n",
      "193h1a0539\n",
      "193h1a0540\n",
      "193h1a0541\n",
      "193h1a0542\n",
      "193h1a0543\n",
      "193h1a0544\n",
      "193h1a0545\n",
      "193h1a0546\n",
      "193h1a0547\n",
      "193h1a0548\n",
      "193h1a0549\n",
      "193h1a0550\n",
      "193h1a0551\n",
      "193h1a0552\n",
      "193h1a0553\n",
      "193h1a0554\n",
      "193h1a0555\n",
      "193h1a0556\n",
      "193h1a0557\n",
      "193h1a0558\n",
      "193h1a0559\n",
      "193h1a0560\n",
      "193h1a0561\n"
     ]
    }
   ],
   "source": [
    "n=62\n",
    "for number in range(501,562):\n",
    "    print(\"193h1a0\"+str(number))"
   ]
  },
  {
   "cell_type": "code",
   "execution_count": 1,
   "metadata": {},
   "outputs": [
    {
     "name": "stdout",
     "output_type": "stream",
     "text": [
      "enter the starting value501\n",
      "enter the ending value562\n",
      "193h1a0501\n",
      "193h1a0502\n",
      "193h1a0503\n",
      "193h1a0504\n",
      "193h1a0505\n",
      "193h1a0506\n",
      "193h1a0507\n",
      "193h1a0508\n",
      "193h1a0509\n",
      "193h1a0510\n",
      "193h1a0511\n",
      "193h1a0512\n",
      "193h1a0513\n",
      "193h1a0514\n",
      "193h1a0515\n",
      "193h1a0516\n",
      "193h1a0517\n",
      "193h1a0518\n",
      "193h1a0519\n",
      "193h1a0520\n",
      "193h1a0521\n",
      "193h1a0522\n",
      "193h1a0523\n",
      "193h1a0524\n",
      "193h1a0525\n",
      "193h1a0526\n",
      "193h1a0527\n",
      "193h1a0528\n",
      "193h1a0529\n",
      "193h1a0530\n",
      "193h1a0531\n",
      "193h1a0532\n",
      "193h1a0533\n",
      "193h1a0534\n",
      "193h1a0535\n",
      "193h1a0536\n",
      "193h1a0537\n",
      "193h1a0538\n",
      "193h1a0539\n",
      "193h1a0540\n",
      "193h1a0541\n",
      "193h1a0542\n",
      "193h1a0543\n",
      "193h1a0544\n",
      "193h1a0545\n",
      "193h1a0546\n",
      "193h1a0547\n",
      "193h1a0548\n",
      "193h1a0549\n",
      "193h1a0550\n",
      "193h1a0551\n",
      "193h1a0552\n",
      "193h1a0553\n",
      "193h1a0554\n",
      "193h1a0555\n",
      "193h1a0556\n",
      "193h1a0557\n",
      "193h1a0558\n",
      "193h1a0559\n",
      "193h1a0560\n",
      "193h1a0561\n",
      "193h1a0562\n"
     ]
    }
   ],
   "source": [
    "start=int(input(\"enter the starting value\"))\n",
    "end=int(input(\"enter the ending value\"))\n",
    "for roll in range(start,end+1):\n",
    "    print(\"193h1a0\"+str(roll))"
   ]
  },
  {
   "cell_type": "code",
   "execution_count": null,
   "metadata": {},
   "outputs": [],
   "source": [
    "#sum of given natural number \n",
    "n=int(input())\n",
    "#10\n",
    "1+2-->3\n",
    "3+3-->6\n",
    "6+4-->10\n"
   ]
  },
  {
   "cell_type": "markdown",
   "metadata": {},
   "source": [
    "#n=504,503,531,547,528,544,543\n",
    "for number in range(501,563):\n",
    "    if number==503 or number==504 or number==531:\n",
    "        continue\n",
    "    print(\"193h1a0\"+str(number))\n",
    "            "
   ]
  },
  {
   "cell_type": "code",
   "execution_count": 10,
   "metadata": {},
   "outputs": [
    {
     "name": "stdout",
     "output_type": "stream",
     "text": [
      "5\n",
      "6\n",
      "hello\n"
     ]
    }
   ],
   "source": [
    "a=6\n",
    "while True:\n",
    "    n=int(input())\n",
    "    if n==a:\n",
    "        print(\"hello\")\n",
    "        break\n",
    "            "
   ]
  },
  {
   "cell_type": "code",
   "execution_count": 5,
   "metadata": {},
   "outputs": [
    {
     "name": "stdout",
     "output_type": "stream",
     "text": [
      "non leap year\n"
     ]
    }
   ],
   "source": [
    "\n",
    "year=2019\n",
    "if year%4==0:\n",
    "    print(\"leap year\")\n",
    "else:\n",
    "    print(\"non leap year\")"
   ]
  },
  {
   "cell_type": "code",
   "execution_count": 1,
   "metadata": {},
   "outputs": [
    {
     "data": {
      "text/plain": [
       "True"
      ]
     },
     "execution_count": 1,
     "metadata": {},
     "output_type": "execute_result"
    }
   ],
   "source": [
    "def isleapyear(year):\n",
    "    if (year%400==0 or (year%100!=0 and year%4==0)):\n",
    "        return True\n",
    "#        print(\"leap year\")\n",
    "#    else:\n",
    "#        print(\"non leap year\")\n",
    "isleapyear(2000)\n"
   ]
  },
  {
   "cell_type": "code",
   "execution_count": 3,
   "metadata": {},
   "outputs": [
    {
     "name": "stdout",
     "output_type": "stream",
     "text": [
      "2000 2004 2008 2012 2016 2020 "
     ]
    }
   ],
   "source": [
    "for i in range(2000,2022):\n",
    "     if isleapyear(i):\n",
    "        print(i,end=\" \")"
   ]
  },
  {
   "cell_type": "code",
   "execution_count": 5,
   "metadata": {},
   "outputs": [
    {
     "data": {
      "text/plain": [
       "True"
      ]
     },
     "execution_count": 5,
     "metadata": {},
     "output_type": "execute_result"
    }
   ],
   "source": [
    "def isprime(n):\n",
    "    c=0\n",
    "    for i in range(1,n+1):\n",
    "        if n%i==0:\n",
    "            c=c+1\n",
    "    if c==2:\n",
    "        return True\n",
    "    else:\n",
    "        return False\n",
    "isprime(3)"
   ]
  },
  {
   "cell_type": "code",
   "execution_count": 8,
   "metadata": {},
   "outputs": [
    {
     "name": "stdout",
     "output_type": "stream",
     "text": [
      "2 3 5 7 11 13 17 19 23 29 31 37 41 43 47 53 59 61 67 71 73 79 83 89 97 "
     ]
    }
   ],
   "source": [
    "for i in range(1,100):\n",
    "    if isprime(i):\n",
    "        print(i,end=\" \")"
   ]
  },
  {
   "cell_type": "code",
   "execution_count": 9,
   "metadata": {},
   "outputs": [
    {
     "data": {
      "text/plain": [
       "False"
      ]
     },
     "execution_count": 9,
     "metadata": {},
     "output_type": "execute_result"
    }
   ],
   "source": [
    "#perfect number\n",
    "#6\n",
    "#1+2+3-->6\n",
    "#28\n",
    "# 1+2+4+7+14-->28\n",
    "def isperfect(n):\n",
    "    s=0\n",
    "    for i in range(1,n):\n",
    "        if n %i==0:\n",
    "            s=s+i\n",
    "    if n==s:\n",
    "        return True\n",
    "    else:\n",
    "        return False \n",
    "isperfect(37)    \n",
    "    "
   ]
  },
  {
   "cell_type": "code",
   "execution_count": null,
   "metadata": {},
   "outputs": [],
   "source": [
    "for i is in range (1,100)"
   ]
  },
  {
   "cell_type": "code",
   "execution_count": 12,
   "metadata": {},
   "outputs": [
    {
     "name": "stdout",
     "output_type": "stream",
     "text": [
      "apssdc\n"
     ]
    }
   ],
   "source": [
    "#strings in python\n",
    "#correction of charecters is know as\n",
    "#arname=\"\"--> define\n",
    "# str is the string data type or short\n",
    "s='klm'\n",
    "type(s)\n",
    "ss=\"apssdc\"\n",
    "print(ss)"
   ]
  },
  {
   "cell_type": "code",
   "execution_count": 15,
   "metadata": {},
   "outputs": [
    {
     "name": "stdout",
     "output_type": "stream",
     "text": [
      "['__add__', '__class__', '__contains__', '__delattr__', '__dir__', '__doc__', '__eq__', '__format__', '__ge__', '__getattribute__', '__getitem__', '__getnewargs__', '__gt__', '__hash__', '__init__', '__init_subclass__', '__iter__', '__le__', '__len__', '__lt__', '__mod__', '__mul__', '__ne__', '__new__', '__reduce__', '__reduce_ex__', '__repr__', '__rmod__', '__rmul__', '__setattr__', '__sizeof__', '__str__', '__subclasshook__', 'capitalize', 'casefold', 'center', 'count', 'encode', 'endswith', 'expandtabs', 'find', 'format', 'format_map', 'index', 'isalnum', 'isalpha', 'isascii', 'isdecimal', 'isdigit', 'isidentifier', 'islower', 'isnumeric', 'isprintable', 'isspace', 'istitle', 'isupper', 'join', 'ljust', 'lower', 'lstrip', 'maketrans', 'partition', 'replace', 'rfind', 'rindex', 'rjust', 'rpartition', 'rsplit', 'rstrip', 'split', 'splitlines', 'startswith', 'strip', 'swapcase', 'title', 'translate', 'upper', 'zfill']\n"
     ]
    }
   ],
   "source": [
    "print(dir(ss))"
   ]
  },
  {
   "cell_type": "code",
   "execution_count": 16,
   "metadata": {},
   "outputs": [
    {
     "data": {
      "text/plain": [
       "'klm'"
      ]
     },
     "execution_count": 16,
     "metadata": {},
     "output_type": "execute_result"
    }
   ],
   "source": [
    "s"
   ]
  },
  {
   "cell_type": "code",
   "execution_count": 17,
   "metadata": {},
   "outputs": [
    {
     "data": {
      "text/plain": [
       "3"
      ]
     },
     "execution_count": 17,
     "metadata": {},
     "output_type": "execute_result"
    }
   ],
   "source": [
    "#finding the length of the strinmg\n",
    "len(s)"
   ]
  },
  {
   "cell_type": "code",
   "execution_count": 18,
   "metadata": {},
   "outputs": [
    {
     "data": {
      "text/plain": [
       "True"
      ]
     },
     "execution_count": 18,
     "metadata": {},
     "output_type": "execute_result"
    }
   ],
   "source": [
    "s.islower()"
   ]
  },
  {
   "cell_type": "code",
   "execution_count": 20,
   "metadata": {},
   "outputs": [
    {
     "data": {
      "text/plain": [
       "'m'"
      ]
     },
     "execution_count": 20,
     "metadata": {},
     "output_type": "execute_result"
    }
   ],
   "source": [
    "s[2]"
   ]
  },
  {
   "cell_type": "code",
   "execution_count": 21,
   "metadata": {},
   "outputs": [
    {
     "data": {
      "text/plain": [
       "'s'"
      ]
     },
     "execution_count": 21,
     "metadata": {},
     "output_type": "execute_result"
    }
   ],
   "source": [
    "ss[2]"
   ]
  },
  {
   "cell_type": "code",
   "execution_count": 23,
   "metadata": {},
   "outputs": [
    {
     "data": {
      "text/plain": [
       "False"
      ]
     },
     "execution_count": 23,
     "metadata": {},
     "output_type": "execute_result"
    }
   ],
   "source": [
    "s.isnumeric()\n"
   ]
  },
  {
   "cell_type": "code",
   "execution_count": 38,
   "metadata": {},
   "outputs": [],
   "source": [
    "data=\"PYTHON PROGRAMMING\""
   ]
  },
  {
   "cell_type": "code",
   "execution_count": 32,
   "metadata": {},
   "outputs": [
    {
     "data": {
      "text/plain": [
       "str"
      ]
     },
     "execution_count": 32,
     "metadata": {},
     "output_type": "execute_result"
    }
   ],
   "source": [
    "type(data)"
   ]
  },
  {
   "cell_type": "code",
   "execution_count": 39,
   "metadata": {},
   "outputs": [
    {
     "data": {
      "text/plain": [
       "'O'"
      ]
     },
     "execution_count": 39,
     "metadata": {},
     "output_type": "execute_result"
    }
   ],
   "source": [
    "data[0]\n",
    "data[1]\n",
    "len(data)\n",
    "data[len(data)-1]\n",
    "data[-1]\n",
    "data[-2]\n",
    "data[-(len(data))]\n",
    "data[-(len(data)-1)]\n",
    "#middle charecter\n",
    "data[len(data)//2]"
   ]
  },
  {
   "cell_type": "code",
   "execution_count": 60,
   "metadata": {},
   "outputs": [
    {
     "name": "stdout",
     "output_type": "stream",
     "text": [
      "CDSSPA.MLK\n"
     ]
    }
   ],
   "source": [
    "#string slicing\n",
    "data=\"python APSSDC\"\n",
    "data\n",
    "data[7:]\n",
    "data[:7]\n",
    "data[2:]\n",
    "data[2:7]\n",
    "#negitive slicing\n",
    "data[-5:-1]\n",
    "data[-6:]\n",
    "data[:-7]\n",
    "data[0:]#data[:]\n",
    "data[-3:-1]\n",
    "\n",
    "#reversing\n",
    "data=\"KLM.APSSDC\"\n",
    "res=\"\"\n",
    "for i in range(len(data)-1,-1,-1):\n",
    "    res=res+data[i]\n",
    "print(res)"
   ]
  },
  {
   "cell_type": "code",
   "execution_count": 64,
   "metadata": {},
   "outputs": [
    {
     "data": {
      "text/plain": [
       "'klmklmklmklmklmklmklmklmklmklmklmklmklmklmklmklmklmklmklmklmklmklmklmklmklmklmklmklmklmklmklmklmklmklmklmklmklmklmklmklmklmklmklmklmklmklmklmklmklmklmklmklmklmklmklmklmklmklmklmklmklmklmklmklmklmklmklmklmklmklmklmklmklmklmklmklmklmklmklmklmklmklmklmklmklmklmklmklmklmklmklmklmklmklmklmklmklmklmklmklm'"
      ]
     },
     "execution_count": 64,
     "metadata": {},
     "output_type": "execute_result"
    }
   ],
   "source": [
    "data=\"klm\"\n",
    "data*100"
   ]
  },
  {
   "cell_type": "code",
   "execution_count": null,
   "metadata": {},
   "outputs": [],
   "source": []
  }
 ],
 "metadata": {
  "kernelspec": {
   "display_name": "Python 3",
   "language": "python",
   "name": "python3"
  },
  "language_info": {
   "codemirror_mode": {
    "name": "ipython",
    "version": 3
   },
   "file_extension": ".py",
   "mimetype": "text/x-python",
   "name": "python",
   "nbconvert_exporter": "python",
   "pygments_lexer": "ipython3",
   "version": "3.8.5"
  }
 },
 "nbformat": 4,
 "nbformat_minor": 4
}
